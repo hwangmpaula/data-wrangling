{
 "cells": [
  {
   "cell_type": "markdown",
   "metadata": {},
   "source": [
    "\n",
    "Visualization Report by Paula Hwang:\n",
    "8/21/2018\n",
    "\n",
    "\n",
    "\n",
    "\n",
    "\n",
    "In my visualization project, I used the predicted results from a neural network that can classify the breeds of dogs. I found that the three most famous dogs’ breed from the data huskies, Labradors, and chihuahuas.\n",
    "Most popular Dogs' Breed\n",
    "\n",
    "1. golden_retriever'\n",
    "2. Pembroke, \n",
    "3. Labrador_retriever  \n",
    "\n",
    "As you can see, a golden retriever is the most popular dog according to the Weratedogs' tweets. I can see that the golden retriever and labrador have good personality. In other way, a Pembroke or a Corgi is as well popular due the social media.\n",
    "Source: https://www.express.co.uk/news/nature/611321/Corgi-popular-the-Queen-social-media \n",
    "\n",
    "1. Cooper\n",
    "2. CHarlie\n",
    "3. Bo\n",
    "\n",
    "Next ones are the 3 most popular principal names. Charlie, Lucy and Oliver. As you can see, WeRateDogs is addressing to the English speaking people. It is primarily targeted Anglophones people from England, United States, Australia, and other British colonies. I come from a Francophone culture; I do not believe these names are famous in French-speaking countries.\n",
    "Most Popular Slang\n",
    "\n",
    "1. pupper\n",
    "2. doggo \n",
    "3. puppo\n",
    "\n",
    "Other 3 main favorite slangs are pupper, doggo, and puppo I believe that people would fall under the charm of a pupper’s pictures. I guess it is important to notice these natural human behaviors; they are drawn to something cute and innocent. We as humans tend to have the desire to nurture something that is small and vulnerable. Additionally, I was not surprised by the idea that ‘doggo’ being popular. Similarly, as pupper, doggo tends to behave like a puppy. Just like I mentioned before,\n"
   ]
  },
  {
   "cell_type": "code",
   "execution_count": null,
   "metadata": {
    "collapsed": true
   },
   "outputs": [],
   "source": []
  }
 ],
 "metadata": {
  "kernelspec": {
   "display_name": "Python 3",
   "language": "python",
   "name": "python3"
  },
  "language_info": {
   "codemirror_mode": {
    "name": "ipython",
    "version": 3
   },
   "file_extension": ".py",
   "mimetype": "text/x-python",
   "name": "python",
   "nbconvert_exporter": "python",
   "pygments_lexer": "ipython3",
   "version": "3.6.3"
  }
 },
 "nbformat": 4,
 "nbformat_minor": 2
}
