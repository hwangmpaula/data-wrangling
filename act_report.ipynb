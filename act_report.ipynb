{
 "cells": [
  {
   "cell_type": "markdown",
   "metadata": {},
   "source": [
    "\n",
    "# Visualization Report \n",
    "\n",
    "##### by Paula Hwang:\n",
    "8/21/2018\n",
    "\n",
    "\n",
    "****\n",
    "\n",
    "<img src=\"https://media.giphy.com/media/6h8jgwC3dU6vS/giphy.gif\">\n",
    "\n",
    "In my visualization project, I used the predicted results from a neural network that can classify the breeds of dogs. I found that the three most famous dogs’ breed from the data:** Golden Retriever, Pembroke, and Labrador**.\n",
    "Most popular Dogs' Breed\n",
    "\n",
    "<center> ** 1. golden_retriever ** </center>\n",
    "<center>** 2. Pembroke **</center>\n",
    "<center>** 3. Labrador_retriever** </center> \n",
    "\n",
    "<img src=\"https://media.giphy.com/media/ITacRy2zH4vMQ/giphy.gif\">\n",
    "<center>*lab puppy + short lighter hair</center>\n",
    "\n",
    "<img src=\"https://media.giphy.com/media/FnsbzAybylCs8/giphy.gif\">\n",
    "<center>* Golden Retriever + long golden hair</center>\n",
    "\n",
    "A **golden retriever and Labrador** The golden retriever is the first most famous dog, and the Labrador retriever is the third most popular dog. We could not deny that the golden retriever and labrador share similarities including their personalities and physical traits --except that the golden retriever have longer golden fur. I could presume that the golden retriever and Labrador are both an excellent pet for people with family. We could not deny their good-natured,friendly, and gentle personality\n",
    "\n",
    "<img src=\"https://media.giphy.com/media/kvZ76ft0ozrCU/giphy.gif\">\n",
    "\n",
    "In another way, a **Pembroke or a Corgi** is as well famous from Twitter. I am pretty sure that influence comes from the Queen of England who made corgis dogs very popular in the media.\n",
    "\n",
    "<img src=\"https://media.giphy.com/media/CA32wUtMUvrUY/giphy.gif\">\n",
    "\n",
    "<center>** 1. Cooper ** </center>\n",
    "<center>** 2. CHarlie **</center>\n",
    "<center>** 3. Bo ** </center>\n",
    "\n",
    "Next ones are the 3 most popular names for dogs. **Charlie, Lucy and Oliver**. As you can see, WeRateDogs is addressing and sharing tweet posts to the English speaking people from England, Canada, United States, Australia, and other British colonies. \n",
    "\n",
    "<img src=\"https://media.giphy.com/media/YTXujdmJn3iOVZhMlQ/giphy.gif\">\n",
    "<center>*picture of a pupper (labeled as a small adult dog that acts like a puppy)</center>\n",
    "\n",
    "<center> ** 1. pupper ** </center>\n",
    "<center> **2. doggo** </center> \n",
    "<center>** 3. puppo** </center>\n",
    "\n",
    "Other 3 main favorite slangs are **pupper, doggo, and puppo** \n",
    "\n",
    "Pupper means a small adult dog that acts like a puppy or teenager dog. Doggo is an adult dog that acts like a puppy. Puppo, on the other hand, means puppy. Again, pupper is ranked as number one, and doggo as number 2. Possibly, people enjoy watching an adult dog acting like a puppy more because they are flawed and humorous. I guess it is important to notice these Twitter users' attraction to something wholesome. --Like a mother nurturing her baby, people seem to enjoy taking care of vulnerable dogs."
   ]
  },
  {
   "cell_type": "code",
   "execution_count": null,
   "metadata": {
    "collapsed": true
   },
   "outputs": [],
   "source": []
  }
 ],
 "metadata": {
  "kernelspec": {
   "display_name": "Python 3",
   "language": "python",
   "name": "python3"
  },
  "language_info": {
   "codemirror_mode": {
    "name": "ipython",
    "version": 3
   },
   "file_extension": ".py",
   "mimetype": "text/x-python",
   "name": "python",
   "nbconvert_exporter": "python",
   "pygments_lexer": "ipython3",
   "version": "3.6.3"
  }
 },
 "nbformat": 4,
 "nbformat_minor": 2
}
